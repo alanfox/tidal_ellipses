{
 "cells": [
  {
   "cell_type": "markdown",
   "metadata": {
    "slideshow": {
     "slide_type": "skip"
    }
   },
   "source": [
    "# M2 and S2 tidal ellipse model"
   ]
  },
  {
   "cell_type": "markdown",
   "metadata": {
    "slideshow": {
     "slide_type": "skip"
    }
   },
   "source": [
    "## Plots some tidal ellipses from a set of components by splitting into clockwise and anticlockwise rotating components"
   ]
  },
  {
   "cell_type": "code",
   "execution_count": null,
   "metadata": {
    "slideshow": {
     "slide_type": "skip"
    }
   },
   "outputs": [],
   "source": [
    "import numpy as np\n",
    "import xarray as xr\n",
    "import matplotlib\n",
    "import matplotlib.pyplot as plt\n",
    "from matplotlib.animation import FuncAnimation\n",
    "from IPython.display import HTML\n",
    "# from IPython import display\n",
    "import seaborn as sns\n",
    "\n",
    "matplotlib.rcParams['animation.embed_limit'] = 2**128\n",
    "\n",
    "sns.set()\n",
    "sns.set_style(\"dark\")\n",
    "# sns.set_palette(\"dark\")"
   ]
  },
  {
   "cell_type": "markdown",
   "metadata": {
    "slideshow": {
     "slide_type": "skip"
    }
   },
   "source": [
    "## make TidalCurrentComp and ComponentSet classes to hold tidal constituent data"
   ]
  },
  {
   "cell_type": "code",
   "execution_count": null,
   "metadata": {
    "slideshow": {
     "slide_type": "skip"
    }
   },
   "outputs": [],
   "source": [
    "class TidalCurrentComp:\n",
    "    def __init__(self, name, period, ccw_comp, cw_comp):\n",
    "        self.name = name\n",
    "        self.period = period\n",
    "        self.ccw_comp = ccw_comp\n",
    "        self.cw_comp = cw_comp\n",
    "        self.rotate = [\"CCW\",\"CW\"]\n",
    "        \n",
    "    def get_name(self):\n",
    "        return self.name\n",
    "    def get_period(self):\n",
    "        return self.period\n",
    "    def get_comp(self,rotate):\n",
    "        if rotate=='ccw':\n",
    "            return self.ccw_comp\n",
    "        else:\n",
    "            return self.ccw_comp\n",
    "    def timeseries(self,t):\n",
    "        return xr.DataArray([self.ccw_comp[0]*np.exp(1j*self.ccw_comp[1])*np.exp(1j*2.0*np.pi*(t/self.period))\n",
    "                             ,self.cw_comp[0]*np.exp(1j*self.cw_comp[1])*np.exp(1j*2.0*np.pi*(-t/self.period))]\n",
    "                            ,coords=[(\"rotate\",self.rotate),(\"time\",t)]\n",
    "                            ,dims=[\"rotate\",\"time\"])\n",
    "        \n",
    "class ComponentSet:\n",
    "    def __init__(self):\n",
    "        self.tides = {}\n",
    "        \n",
    "    def add_tide(self,tide):\n",
    "        self.tides[tide.get_name()]=tide\n",
    "    \n",
    "    def list_tides(self):\n",
    "        return self.tides.keys()\n",
    "    def tide(self,name):\n",
    "        return self.tides[name]\n",
    "        \n",
    "    "
   ]
  },
  {
   "cell_type": "markdown",
   "metadata": {
    "slideshow": {
     "slide_type": "skip"
    }
   },
   "source": [
    "### build set of tidal components"
   ]
  },
  {
   "cell_type": "code",
   "execution_count": null,
   "metadata": {
    "slideshow": {
     "slide_type": "skip"
    }
   },
   "outputs": [],
   "source": [
    "tides = ComponentSet()\n",
    "tides.add_tide(TidalCurrentComp('M2',12.42,(1.3,np.pi/4.0),(0.7,np.pi*0.0)))\n",
    "tides.add_tide(TidalCurrentComp('S2',12.00,(0.45*1.6,np.pi*2.0/3.0),(0.45*0.4,np.pi*2.0/6.0)))"
   ]
  },
  {
   "cell_type": "markdown",
   "metadata": {
    "slideshow": {
     "slide_type": "skip"
    }
   },
   "source": [
    "### array of times, in hours, to calculate currents at"
   ]
  },
  {
   "cell_type": "code",
   "execution_count": null,
   "metadata": {
    "slideshow": {
     "slide_type": "skip"
    }
   },
   "outputs": [],
   "source": [
    "# dimensions, times for calculation\n",
    "t = np.arange(0, 1000.0, 0.5)"
   ]
  },
  {
   "cell_type": "markdown",
   "metadata": {
    "slideshow": {
     "slide_type": "skip"
    }
   },
   "source": [
    "### choose which components to plot - order of selection matters"
   ]
  },
  {
   "cell_type": "code",
   "execution_count": null,
   "metadata": {
    "slideshow": {
     "slide_type": "skip"
    }
   },
   "outputs": [],
   "source": [
    "# build xarray DataSet of tidal timeseries to plot - use all or specify a subset\n",
    "td = xr.Dataset()\n",
    "# for comp in tides.list_tides():\n",
    "for comp in ['M2','S2']:\n",
    "    tide = tides.tide(comp)\n",
    "    td = td.assign({comp:tide.timeseries(t)}) "
   ]
  },
  {
   "cell_type": "markdown",
   "metadata": {
    "slideshow": {
     "slide_type": "skip"
    }
   },
   "source": [
    "### plot and animate\n",
    "\n",
    "This plots a single frame. Not sure how to stop this happening"
   ]
  },
  {
   "cell_type": "code",
   "execution_count": null,
   "metadata": {
    "slideshow": {
     "slide_type": "skip"
    }
   },
   "outputs": [],
   "source": [
    "fig,ax = plt.subplots(figsize=(4,5),dpi=100)\n",
    "\n",
    "i = 0\n",
    "scale = 0.2\n",
    "origin = 0 + 1j*0\n",
    "new_origin = 0 + 1j*0\n",
    "\n",
    "patches_c = []\n",
    "patches_a = []\n",
    "\n",
    "# component arrows and circles\n",
    "ii=0\n",
    "for varname, da in td.data_vars.items():\n",
    "    patches_c.append(plt.Circle((new_origin.real,new_origin.imag),np.abs(da.sel(rotate=\"CCW\").data[0]),fill=False,color='C'+str(ii),lw=2.0))\n",
    "    patches_a.append(plt.Arrow(new_origin.real,new_origin.imag,da.sel(rotate=\"CCW\").data[i].real,da.sel(rotate=\"CCW\").data[i].imag,\n",
    "                      width=1.0*scale,color='C'+str(ii)))\n",
    "    new_origin = new_origin + da.sel(rotate=\"CCW\").data[i]\n",
    "    ii += 1\n",
    "    patches_c.append(plt.Circle((new_origin.real,new_origin.imag),np.abs(da.sel(rotate=\"CW\").data[0]),fill=False,color='C'+str(ii),lw=2.0))\n",
    "    patches_a.append(plt.Arrow(new_origin.real,new_origin.imag,da.sel(rotate=\"CW\").data[i].real,da.sel(rotate=\"CW\").data[i].imag,\n",
    "                      width=1.0*scale,color='C'+str(ii)))\n",
    "    new_origin = new_origin + da.sel(rotate=\"CW\").data[i]\n",
    "    ii += 1\n",
    "    \n",
    "for patch in patches_c:\n",
    "    ax.add_patch(patch)\n",
    "for patch in patches_a:\n",
    "    ax.add_patch(patch)\n",
    "\n",
    "# total velocity arrow\n",
    "arrv =  plt.Arrow(origin.real,origin.imag,new_origin.real,new_origin.imag,\n",
    "                      width=1.2*scale,color='xkcd:tomato',zorder=10)\n",
    "av=ax.add_patch(arrv)\n",
    "\n",
    "# total velocity tracking point\n",
    "scat = ax.scatter(new_origin.real,new_origin.imag,color='xkcd:tomato',zorder=10)\n",
    "\n",
    "# total velocity ellipse trace\n",
    "x = np.array([new_origin.real])\n",
    "y = np.array([new_origin.imag])\n",
    "line, = ax.plot(x,y,zorder=0,color='xkcd:tan',alpha=0.5)\n",
    "\n",
    "ax.set_aspect('equal')\n",
    "ax.set_xlim(-3,3)\n",
    "ax.set_ylim(-3,3)\n",
    "\n",
    "def animate(i):\n",
    "    global av,x,y,patches_a\n",
    "\n",
    "# remove old arrows (arrows cannot be updated)\n",
    "    av.remove()\n",
    "    for patch in patches_a:\n",
    "        patch.remove()\n",
    "    patches_a = []\n",
    "\n",
    "# loop over all tidal components\n",
    "    new_origin = 0 + 1j*0\n",
    "    ii = 0\n",
    "    for varname, da in td.data_vars.items():\n",
    "        \n",
    "        patches_c[ii].center = (new_origin.real,new_origin.imag)\n",
    "        patches_a.append(plt.Arrow(new_origin.real,new_origin.imag,da.sel(rotate=\"CCW\").data[i].real,da.sel(rotate=\"CCW\").data[i].imag,\n",
    "                          width=1.0*scale,color='C'+str(ii)))\n",
    "        new_origin = new_origin + da.sel(rotate=\"CCW\").data[i]\n",
    "        ii += 1\n",
    "        patches_c[ii].center = (new_origin.real,new_origin.imag)\n",
    "        patches_a.append(plt.Arrow(new_origin.real,new_origin.imag,da.sel(rotate=\"CW\").data[i].real,da.sel(rotate=\"CW\").data[i].imag,\n",
    "                          width=1.0*scale,color='C'+str(ii)))\n",
    "        new_origin = new_origin + da.sel(rotate=\"CW\").data[i]\n",
    "        ii += 1\n",
    "\n",
    "    for patch in patches_a:\n",
    "        ax.add_patch(patch)\n",
    "\n",
    "# total velocity arrow\n",
    "    arrv =  plt.Arrow(origin.real,origin.imag,new_origin.real,new_origin.imag,\n",
    "                          width=1.2*scale,color='xkcd:tomato',zorder=10)\n",
    "    av=ax.add_patch(arrv)\n",
    "\n",
    "# total velocity tracking point\n",
    "    scat.set_offsets(np.c_[new_origin.real,new_origin.imag])\n",
    "\n",
    "    # total velocity ellipse trace\n",
    "    x = np.append(x,new_origin.real)\n",
    "    y = np.append(y,new_origin.imag)\n",
    "    line.set_xdata(x)\n",
    "    line.set_ydata(y)\n",
    "\n",
    "    return scat,line"
   ]
  },
  {
   "cell_type": "markdown",
   "metadata": {},
   "source": [
    "## Set up the animation."
   ]
  },
  {
   "cell_type": "code",
   "execution_count": null,
   "metadata": {
    "slideshow": {
     "slide_type": "skip"
    }
   },
   "outputs": [],
   "source": [
    "anim = FuncAnimation(\n",
    "    fig, animate,frames = 1000,interval = 100,blit=True)"
   ]
  },
  {
   "cell_type": "markdown",
   "metadata": {},
   "source": [
    "## Run the animation. This will take some time to build...be patient..."
   ]
  },
  {
   "cell_type": "code",
   "execution_count": null,
   "metadata": {
    "slideshow": {
     "slide_type": "slide"
    }
   },
   "outputs": [],
   "source": [
    "HTML(anim.to_jshtml())"
   ]
  },
  {
   "cell_type": "code",
   "execution_count": null,
   "metadata": {
    "slideshow": {
     "slide_type": "skip"
    }
   },
   "outputs": [],
   "source": []
  }
 ],
 "metadata": {
  "celltoolbar": "Slideshow",
  "kernelspec": {
   "display_name": "py3_8Carto",
   "language": "python",
   "name": "py3_8carto"
  },
  "language_info": {
   "codemirror_mode": {
    "name": "ipython",
    "version": 3
   },
   "file_extension": ".py",
   "mimetype": "text/x-python",
   "name": "python",
   "nbconvert_exporter": "python",
   "pygments_lexer": "ipython3",
   "version": "3.7.6"
  }
 },
 "nbformat": 4,
 "nbformat_minor": 4
}
