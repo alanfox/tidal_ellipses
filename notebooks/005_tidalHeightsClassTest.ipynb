{
 "cells": [
  {
   "cell_type": "markdown",
   "metadata": {
    "slideshow": {
     "slide_type": "skip"
    }
   },
   "source": [
    "# M2 and S2 tidal height model"
   ]
  },
  {
   "cell_type": "markdown",
   "metadata": {
    "slideshow": {
     "slide_type": "skip"
    }
   },
   "source": [
    "## Plots an animated tidal height timeseries from a set of components by splitting into clockwise and anticlockwise rotating components."
   ]
  },
  {
   "cell_type": "code",
   "execution_count": null,
   "metadata": {
    "slideshow": {
     "slide_type": "skip"
    }
   },
   "outputs": [],
   "source": [
    "import numpy as np\n",
    "import xarray as xr\n",
    "import matplotlib\n",
    "import matplotlib.pyplot as plt\n",
    "from matplotlib.animation import FuncAnimation\n",
    "from IPython.display import HTML\n",
    "import seaborn as sns\n",
    "\n",
    "matplotlib.rcParams['animation.embed_limit'] = 2**128\n",
    "\n",
    "sns.set()\n",
    "sns.set_style(\"dark\")\n",
    "# sns.set_palette(\"dark\")"
   ]
  },
  {
   "cell_type": "markdown",
   "metadata": {
    "slideshow": {
     "slide_type": "skip"
    }
   },
   "source": [
    "## Make new TidalHeightComp and ComponetSet classes to hold tidal data."
   ]
  },
  {
   "cell_type": "code",
   "execution_count": null,
   "metadata": {
    "slideshow": {
     "slide_type": "skip"
    }
   },
   "outputs": [],
   "source": [
    "class TidalHeightComp:\n",
    "    def __init__(self, name, period, height):\n",
    "        self.name = name\n",
    "        self.period = period\n",
    "        self.height = height\n",
    "        # break into symmetrical clockwise and anticlockwise rotating components, each with half amplitude\n",
    "        self.ccw_comp = (self.height[0]/2.0,self.height[1])\n",
    "        self.cw_comp = (self.height[0]/2.0,-self.height[1])\n",
    "        self.rotate = [\"CCW\",\"CW\"]\n",
    "        \n",
    "    def get_name(self):\n",
    "        return self.name\n",
    "    def get_period(self):\n",
    "        return self.period\n",
    "    def get_height(self,rotate):\n",
    "        return self.height\n",
    "\n",
    "    def timeseries(self,t):\n",
    "        return xr.DataArray([self.ccw_comp[0]*np.exp(1j*self.ccw_comp[1])*np.exp(1j*2.0*np.pi*(t/self.period))\n",
    "                             ,self.cw_comp[0]*np.exp(1j*self.cw_comp[1])*np.exp(1j*2.0*np.pi*(-t/self.period))]\n",
    "                            ,coords=[(\"rotate\",self.rotate),(\"time\",t)]\n",
    "                            ,dims=[\"rotate\",\"time\"])\n",
    "        \n",
    "class ComponentSet:\n",
    "    def __init__(self):\n",
    "        self.tides = {}\n",
    "        \n",
    "    def add_tide(self,tide):\n",
    "        self.tides[tide.get_name()]=tide\n",
    "    \n",
    "    def list_tides(self):\n",
    "        return self.tides.keys()\n",
    "    def tide(self,name):\n",
    "        return self.tides[name]\n",
    "        \n",
    "    "
   ]
  },
  {
   "cell_type": "markdown",
   "metadata": {
    "slideshow": {
     "slide_type": "skip"
    }
   },
   "source": [
    "### build set of tidal components"
   ]
  },
  {
   "cell_type": "code",
   "execution_count": null,
   "metadata": {
    "slideshow": {
     "slide_type": "skip"
    }
   },
   "outputs": [],
   "source": [
    "tides = ComponentSet()\n",
    "tides.add_tide(TidalHeightComp('M2',12.42060120,(1.09,1.0*np.pi)))\n",
    "tides.add_tide(TidalHeightComp('S2',12.00000000,(0.47,(1.0/3.0)*np.pi)))\n",
    "tides.add_tide(TidalHeightComp('N2',12.65834751,(0.23,(1.0/4.0)*np.pi)))\n",
    "tides.add_tide(TidalHeightComp('O1',25.81933871,(0.10,1.66*np.pi)))\n",
    "tides.add_tide(TidalHeightComp('K1',23.93447213,(0.05,0.75*np.pi)))\n"
   ]
  },
  {
   "cell_type": "markdown",
   "metadata": {
    "slideshow": {
     "slide_type": "skip"
    }
   },
   "source": [
    "### array of times, in hours, to calculate currents at. One day I will make these real dates and use real tidal components."
   ]
  },
  {
   "cell_type": "code",
   "execution_count": null,
   "metadata": {
    "slideshow": {
     "slide_type": "skip"
    }
   },
   "outputs": [],
   "source": [
    "# dimensions, times for calculation\n",
    "t = np.arange(0, 1000.0, 0.5)"
   ]
  },
  {
   "cell_type": "markdown",
   "metadata": {
    "slideshow": {
     "slide_type": "skip"
    }
   },
   "source": [
    "### choose which components to plot - order of selection matters"
   ]
  },
  {
   "cell_type": "code",
   "execution_count": null,
   "metadata": {
    "slideshow": {
     "slide_type": "skip"
    }
   },
   "outputs": [],
   "source": [
    "# build xarray DataSet of tidal timeseries to plot - use all or specify a subset\n",
    "td = xr.Dataset()\n",
    "# for comp in tides.list_tides():\n",
    "for comp in ['M2','S2','N2','K1','O1']:\n",
    "    tide = tides.tide(comp)\n",
    "    td = td.assign({comp:tide.timeseries(t)}) "
   ]
  },
  {
   "cell_type": "markdown",
   "metadata": {
    "slideshow": {
     "slide_type": "skip"
    }
   },
   "source": [
    "### plot and animate\n",
    "\n",
    "this plots a single frame initially. Not sure how to stop this happening."
   ]
  },
  {
   "cell_type": "code",
   "execution_count": null,
   "metadata": {
    "slideshow": {
     "slide_type": "skip"
    }
   },
   "outputs": [],
   "source": [
    "fig,ax = plt.subplots(figsize=(4,8),dpi=100)\n",
    "\n",
    "i = 0\n",
    "scale = 0.1\n",
    "origin = 0 + 1j*0\n",
    "new_origin = 0 + 1j*0\n",
    "\n",
    "patches_c = []\n",
    "patches_a = []\n",
    "\n",
    "# component arrows and circles\n",
    "ii=0\n",
    "for varname, da in td.data_vars.items():\n",
    "    patches_c.append(plt.Circle((new_origin.real,new_origin.imag),np.abs(da.sel(rotate=\"CCW\").data[0]),fill=False,color='C'+str(ii),lw=1.0))\n",
    "    patches_a.append(plt.Arrow(new_origin.real,new_origin.imag,da.sel(rotate=\"CCW\").data[i].real,da.sel(rotate=\"CCW\").data[i].imag,\n",
    "                      width=1.0*scale,color='C'+str(ii)))\n",
    "    new_origin = new_origin + da.sel(rotate=\"CCW\").data[i]\n",
    "    ii += 1\n",
    "    patches_c.append(plt.Circle((new_origin.real,new_origin.imag),np.abs(da.sel(rotate=\"CW\").data[0]),fill=False,color='C'+str(ii),lw=1.0))\n",
    "    patches_a.append(plt.Arrow(new_origin.real,new_origin.imag,da.sel(rotate=\"CW\").data[i].real,da.sel(rotate=\"CW\").data[i].imag,\n",
    "                      width=1.0*scale,color='C'+str(ii)))\n",
    "    new_origin = new_origin + da.sel(rotate=\"CW\").data[i]\n",
    "    ii += 1\n",
    "    \n",
    "for patch in patches_c:\n",
    "    ax.add_patch(patch)\n",
    "for patch in patches_a:\n",
    "    ax.add_patch(patch)\n",
    "\n",
    "# total velocity tracking point\n",
    "scat = ax.scatter(new_origin.real,new_origin.imag,color='xkcd:tomato',zorder=10)\n",
    "\n",
    "# total velocity ellipse trace\n",
    "x = np.array([new_origin.real])\n",
    "y = np.array([new_origin.imag])\n",
    "line, = ax.plot(x,y,zorder=0,color='xkcd:black',alpha=0.5)\n",
    "\n",
    "ax.set_aspect('equal')\n",
    "ax.set_xlim(-2.0,2.0)\n",
    "ax.set_ylim(-8,2.0)\n",
    "\n",
    "def animate(i):\n",
    "    global x,y,patches_a\n",
    "\n",
    "# remove old arrows (arrows cannot be updated)\n",
    "    for patch in patches_a:\n",
    "        patch.remove()\n",
    "    patches_a = []\n",
    "\n",
    "# loop over all tidal components\n",
    "    new_origin = 0 + 1j*0\n",
    "    ii = 0\n",
    "    for varname, da in td.data_vars.items():\n",
    "        \n",
    "        patches_c[ii].center = (new_origin.real,new_origin.imag)\n",
    "        patches_a.append(plt.Arrow(new_origin.real,new_origin.imag,da.sel(rotate=\"CCW\").data[i].real,da.sel(rotate=\"CCW\").data[i].imag,\n",
    "                          width=1.0*scale,color='C'+str(ii)))\n",
    "        new_origin = new_origin + da.sel(rotate=\"CCW\").data[i]\n",
    "        ii += 1\n",
    "        patches_c[ii].center = (new_origin.real,new_origin.imag)\n",
    "        patches_a.append(plt.Arrow(new_origin.real,new_origin.imag,da.sel(rotate=\"CW\").data[i].real,da.sel(rotate=\"CW\").data[i].imag,\n",
    "                          width=1.0*scale,color='C'+str(ii)))\n",
    "        new_origin = new_origin + da.sel(rotate=\"CW\").data[i]\n",
    "        ii += 1\n",
    "\n",
    "    for patch in patches_a:\n",
    "        ax.add_patch(patch)\n",
    "\n",
    "# total velocity tracking point\n",
    "    scat.set_offsets(np.c_[new_origin.real,new_origin.imag])\n",
    "\n",
    "    # total velocity ellipse trace\n",
    "    x = np.append(x,new_origin.real)\n",
    "    y = np.append((y-0.005),new_origin.imag)\n",
    "    line.set_xdata(x)\n",
    "    line.set_ydata(y)\n",
    "\n",
    "    return scat,line"
   ]
  },
  {
   "cell_type": "markdown",
   "metadata": {},
   "source": [
    "## Set up the animation"
   ]
  },
  {
   "cell_type": "code",
   "execution_count": null,
   "metadata": {
    "slideshow": {
     "slide_type": "skip"
    }
   },
   "outputs": [],
   "source": [
    "anim = FuncAnimation(\n",
    "    fig, animate,frames = 1600,interval = 50,blit=True)"
   ]
  },
  {
   "cell_type": "markdown",
   "metadata": {},
   "source": [
    "## Run the animation. This will take some time to build...be patient..."
   ]
  },
  {
   "cell_type": "code",
   "execution_count": null,
   "metadata": {
    "slideshow": {
     "slide_type": "skip"
    }
   },
   "outputs": [],
   "source": [
    "HTML(anim.to_jshtml())"
   ]
  },
  {
   "cell_type": "code",
   "execution_count": null,
   "metadata": {},
   "outputs": [],
   "source": []
  }
 ],
 "metadata": {
  "celltoolbar": "Slideshow",
  "kernelspec": {
   "display_name": "py3_8Carto",
   "language": "python",
   "name": "py3_8carto"
  },
  "language_info": {
   "codemirror_mode": {
    "name": "ipython",
    "version": 3
   },
   "file_extension": ".py",
   "mimetype": "text/x-python",
   "name": "python",
   "nbconvert_exporter": "python",
   "pygments_lexer": "ipython3",
   "version": "3.7.6"
  }
 },
 "nbformat": 4,
 "nbformat_minor": 4
}
